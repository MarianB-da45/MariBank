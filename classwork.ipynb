{
 "cells": [
  {
   "cell_type": "code",
   "execution_count": 23,
   "metadata": {},
   "outputs": [
    {
     "name": "stdout",
     "output_type": "stream",
     "text": [
      "Requirement already satisfied: psycopg2 in c:\\users\\user\\anaconda3\\lib\\site-packages (2.9.9)\n",
      "Requirement already satisfied: sqlalchemy in c:\\users\\user\\anaconda3\\lib\\site-packages (2.0.30)\n",
      "Requirement already satisfied: typing-extensions>=4.6.0 in c:\\users\\user\\anaconda3\\lib\\site-packages (from sqlalchemy) (4.11.0)\n",
      "Requirement already satisfied: greenlet!=0.4.17 in c:\\users\\user\\anaconda3\\lib\\site-packages (from sqlalchemy) (3.0.1)\n",
      "Requirement already satisfied: python_dotenv in c:\\users\\user\\anaconda3\\lib\\site-packages (1.0.1)\n"
     ]
    }
   ],
   "source": [
    "## set up the DB client library\n",
    "!pip install psycopg2\n",
    "!pip install sqlalchemy\n",
    "!pip install python_dotenv\n",
    "\n",
    "# you can only install once for python environment"
   ]
  },
  {
   "cell_type": "code",
   "execution_count": 24,
   "metadata": {},
   "outputs": [
    {
     "name": "stdout",
     "output_type": "stream",
     "text": [
      "^C\n"
     ]
    }
   ],
   "source": [
    "!pip uninstall python_dotenv"
   ]
  },
  {
   "cell_type": "code",
   "execution_count": 16,
   "metadata": {},
   "outputs": [
    {
     "data": {
      "text/plain": [
       "True"
      ]
     },
     "execution_count": 16,
     "metadata": {},
     "output_type": "execute_result"
    }
   ],
   "source": [
    "\n",
    "\n",
    "# import libraries\n",
    "from sqlalchemy import create_engine, text\n",
    "from dotenv  import load_dotenv\n",
    "import os\n",
    "import pandas as pd\n",
    "\n",
    " \n",
    " # loading my credentials\n",
    "load_dotenv(override=True)"
   ]
  },
  {
   "cell_type": "code",
   "execution_count": 12,
   "metadata": {},
   "outputs": [],
   "source": [
    "# credentials\n",
    "host = os.getenv('db_host')\n",
    "username = os.getenv('db_username')\n",
    "password = os.getenv('db_password')\n",
    "port = os.getenv('db_port')\n",
    "db_name = os.getenv('db_name')\n"
   ]
  },
  {
   "cell_type": "code",
   "execution_count": 13,
   "metadata": {},
   "outputs": [],
   "source": [
    "## create an engine\n",
    "database_url = f\"postgresql+psycopg2://{username}:{password}@{host}:{port}/{db_name}\"\n",
    "engine = create_engine(database_url)\n",
    "\n"
   ]
  },
  {
   "cell_type": "code",
   "execution_count": 39,
   "metadata": {},
   "outputs": [
    {
     "data": {
      "text/plain": [
       "'Metrobank'"
      ]
     },
     "execution_count": 39,
     "metadata": {},
     "output_type": "execute_result"
    }
   ],
   "source": [
    "db_name"
   ]
  },
  {
   "cell_type": "code",
   "execution_count": 14,
   "metadata": {},
   "outputs": [
    {
     "name": "stdout",
     "output_type": "stream",
     "text": [
      "(1, 'Brenda Brady', 'Branch Manager', 3, datetime.date(2014, 7, 26))\n",
      "(2, 'Amanda Rhodes', 'Cashier', 7, datetime.date(2020, 11, 11))\n",
      "(3, 'Barbara Walton', 'Marketing executive', 8, datetime.date(2019, 10, 10))\n",
      "(4, 'Cheryl Terry', 'Marketing executive', 4, datetime.date(2019, 8, 26))\n",
      "(5, 'Sierra Holland', 'Marketing executive', 8, datetime.date(2013, 12, 16))\n",
      "(6, 'Vincent Garcia', 'Branch Manager', 7, datetime.date(2021, 11, 17))\n",
      "(7, 'Tyler Espinoza', 'Branch Manager', 2, datetime.date(2022, 7, 28))\n",
      "(8, 'Sharon Johnson', 'Customer Service', 5, datetime.date(2020, 9, 21))\n",
      "(9, 'Anthony Miller', 'Customer Service', 3, datetime.date(2017, 1, 15))\n",
      "(10, 'Kevin Todd', 'Customer Service', 3, datetime.date(2019, 5, 31))\n",
      "(11, 'Candice Johnson', 'Customer Service', 4, datetime.date(2014, 12, 23))\n",
      "(12, 'Steven Gill', 'Cashier', 8, datetime.date(2016, 1, 28))\n",
      "(13, 'Tammy Manning', 'Cashier', 9, datetime.date(2019, 8, 26))\n",
      "(14, 'Cassandra Lindsey', 'Cashier', 10, datetime.date(2022, 8, 22))\n",
      "(15, 'Sean Jacobs', 'Cashier', 8, datetime.date(2016, 4, 23))\n",
      "(16, 'Daniel Thomas', 'Marketing executive', 10, datetime.date(2019, 4, 1))\n",
      "(17, 'Samantha Harris', 'Marketing executive', 4, datetime.date(2017, 4, 21))\n",
      "(18, 'Olivia Poole', 'Marketing executive', 2, datetime.date(2016, 4, 11))\n",
      "(19, 'Casey Austin', 'Customer Service', 8, datetime.date(2018, 11, 23))\n",
      "(20, 'Todd Miranda', 'Customer Service', 7, datetime.date(2022, 4, 8))\n"
     ]
    }
   ],
   "source": [
    "# creating a connection\n",
    "with engine.connect() as connection:\n",
    "    result = connection.execute(text(\"SELECT * FROM employees\"))\n",
    "    rows = result.fetchall()\n",
    "    for row in rows:\n",
    "        print(row)\n",
    "\n",
    "\n"
   ]
  },
  {
   "cell_type": "code",
   "execution_count": 46,
   "metadata": {},
   "outputs": [
    {
     "name": "stdout",
     "output_type": "stream",
     "text": [
      "postgresql+psycopg2://postgres:Aveb67%40>@localhost:5432/Metrobank\n"
     ]
    }
   ],
   "source": [
    "print(database_url)"
   ]
  },
  {
   "cell_type": "markdown",
   "metadata": {},
   "source": []
  },
  {
   "cell_type": "code",
   "execution_count": 15,
   "metadata": {},
   "outputs": [
    {
     "name": "stdout",
     "output_type": "stream",
     "text": [
      "(1, 'Brenda Brady', 'Branch Manager', 3, datetime.date(2014, 7, 26))\n",
      "(2, 'Amanda Rhodes', 'Cashier', 7, datetime.date(2020, 11, 11))\n",
      "(3, 'Barbara Walton', 'Marketing executive', 8, datetime.date(2019, 10, 10))\n",
      "(4, 'Cheryl Terry', 'Marketing executive', 4, datetime.date(2019, 8, 26))\n",
      "(5, 'Sierra Holland', 'Marketing executive', 8, datetime.date(2013, 12, 16))\n",
      "(6, 'Vincent Garcia', 'Branch Manager', 7, datetime.date(2021, 11, 17))\n",
      "(7, 'Tyler Espinoza', 'Branch Manager', 2, datetime.date(2022, 7, 28))\n",
      "(8, 'Sharon Johnson', 'Customer Service', 5, datetime.date(2020, 9, 21))\n",
      "(9, 'Anthony Miller', 'Customer Service', 3, datetime.date(2017, 1, 15))\n",
      "(10, 'Kevin Todd', 'Customer Service', 3, datetime.date(2019, 5, 31))\n"
     ]
    }
   ],
   "source": [
    "with engine.connect() as connection:\n",
    "    result = connection.execute(text(\"SELECT * FROM employees\"))\n",
    "    rows = result.fetchmany(10)\n",
    "    for row in rows:\n",
    "        print(row)"
   ]
  },
  {
   "cell_type": "code",
   "execution_count": 17,
   "metadata": {},
   "outputs": [],
   "source": [
    "## using pandas and the connection\n",
    "\n",
    "with engine.connect() as connection:\n",
    "    query  = \"SELECT * FROM employees\"\n",
    "    df = pd.read_sql(query, connection)\n"
   ]
  },
  {
   "cell_type": "code",
   "execution_count": 18,
   "metadata": {},
   "outputs": [
    {
     "data": {
      "text/html": [
       "<div>\n",
       "<style scoped>\n",
       "    .dataframe tbody tr th:only-of-type {\n",
       "        vertical-align: middle;\n",
       "    }\n",
       "\n",
       "    .dataframe tbody tr th {\n",
       "        vertical-align: top;\n",
       "    }\n",
       "\n",
       "    .dataframe thead th {\n",
       "        text-align: right;\n",
       "    }\n",
       "</style>\n",
       "<table border=\"1\" class=\"dataframe\">\n",
       "  <thead>\n",
       "    <tr style=\"text-align: right;\">\n",
       "      <th></th>\n",
       "      <th>employeeid</th>\n",
       "      <th>name</th>\n",
       "      <th>position</th>\n",
       "      <th>branchid</th>\n",
       "      <th>hiredate</th>\n",
       "    </tr>\n",
       "  </thead>\n",
       "  <tbody>\n",
       "    <tr>\n",
       "      <th>0</th>\n",
       "      <td>1</td>\n",
       "      <td>Brenda Brady</td>\n",
       "      <td>Branch Manager</td>\n",
       "      <td>3</td>\n",
       "      <td>2014-07-26</td>\n",
       "    </tr>\n",
       "    <tr>\n",
       "      <th>1</th>\n",
       "      <td>2</td>\n",
       "      <td>Amanda Rhodes</td>\n",
       "      <td>Cashier</td>\n",
       "      <td>7</td>\n",
       "      <td>2020-11-11</td>\n",
       "    </tr>\n",
       "    <tr>\n",
       "      <th>2</th>\n",
       "      <td>3</td>\n",
       "      <td>Barbara Walton</td>\n",
       "      <td>Marketing executive</td>\n",
       "      <td>8</td>\n",
       "      <td>2019-10-10</td>\n",
       "    </tr>\n",
       "    <tr>\n",
       "      <th>3</th>\n",
       "      <td>4</td>\n",
       "      <td>Cheryl Terry</td>\n",
       "      <td>Marketing executive</td>\n",
       "      <td>4</td>\n",
       "      <td>2019-08-26</td>\n",
       "    </tr>\n",
       "    <tr>\n",
       "      <th>4</th>\n",
       "      <td>5</td>\n",
       "      <td>Sierra Holland</td>\n",
       "      <td>Marketing executive</td>\n",
       "      <td>8</td>\n",
       "      <td>2013-12-16</td>\n",
       "    </tr>\n",
       "    <tr>\n",
       "      <th>5</th>\n",
       "      <td>6</td>\n",
       "      <td>Vincent Garcia</td>\n",
       "      <td>Branch Manager</td>\n",
       "      <td>7</td>\n",
       "      <td>2021-11-17</td>\n",
       "    </tr>\n",
       "    <tr>\n",
       "      <th>6</th>\n",
       "      <td>7</td>\n",
       "      <td>Tyler Espinoza</td>\n",
       "      <td>Branch Manager</td>\n",
       "      <td>2</td>\n",
       "      <td>2022-07-28</td>\n",
       "    </tr>\n",
       "    <tr>\n",
       "      <th>7</th>\n",
       "      <td>8</td>\n",
       "      <td>Sharon Johnson</td>\n",
       "      <td>Customer Service</td>\n",
       "      <td>5</td>\n",
       "      <td>2020-09-21</td>\n",
       "    </tr>\n",
       "    <tr>\n",
       "      <th>8</th>\n",
       "      <td>9</td>\n",
       "      <td>Anthony Miller</td>\n",
       "      <td>Customer Service</td>\n",
       "      <td>3</td>\n",
       "      <td>2017-01-15</td>\n",
       "    </tr>\n",
       "    <tr>\n",
       "      <th>9</th>\n",
       "      <td>10</td>\n",
       "      <td>Kevin Todd</td>\n",
       "      <td>Customer Service</td>\n",
       "      <td>3</td>\n",
       "      <td>2019-05-31</td>\n",
       "    </tr>\n",
       "    <tr>\n",
       "      <th>10</th>\n",
       "      <td>11</td>\n",
       "      <td>Candice Johnson</td>\n",
       "      <td>Customer Service</td>\n",
       "      <td>4</td>\n",
       "      <td>2014-12-23</td>\n",
       "    </tr>\n",
       "    <tr>\n",
       "      <th>11</th>\n",
       "      <td>12</td>\n",
       "      <td>Steven Gill</td>\n",
       "      <td>Cashier</td>\n",
       "      <td>8</td>\n",
       "      <td>2016-01-28</td>\n",
       "    </tr>\n",
       "    <tr>\n",
       "      <th>12</th>\n",
       "      <td>13</td>\n",
       "      <td>Tammy Manning</td>\n",
       "      <td>Cashier</td>\n",
       "      <td>9</td>\n",
       "      <td>2019-08-26</td>\n",
       "    </tr>\n",
       "    <tr>\n",
       "      <th>13</th>\n",
       "      <td>14</td>\n",
       "      <td>Cassandra Lindsey</td>\n",
       "      <td>Cashier</td>\n",
       "      <td>10</td>\n",
       "      <td>2022-08-22</td>\n",
       "    </tr>\n",
       "    <tr>\n",
       "      <th>14</th>\n",
       "      <td>15</td>\n",
       "      <td>Sean Jacobs</td>\n",
       "      <td>Cashier</td>\n",
       "      <td>8</td>\n",
       "      <td>2016-04-23</td>\n",
       "    </tr>\n",
       "    <tr>\n",
       "      <th>15</th>\n",
       "      <td>16</td>\n",
       "      <td>Daniel Thomas</td>\n",
       "      <td>Marketing executive</td>\n",
       "      <td>10</td>\n",
       "      <td>2019-04-01</td>\n",
       "    </tr>\n",
       "    <tr>\n",
       "      <th>16</th>\n",
       "      <td>17</td>\n",
       "      <td>Samantha Harris</td>\n",
       "      <td>Marketing executive</td>\n",
       "      <td>4</td>\n",
       "      <td>2017-04-21</td>\n",
       "    </tr>\n",
       "    <tr>\n",
       "      <th>17</th>\n",
       "      <td>18</td>\n",
       "      <td>Olivia Poole</td>\n",
       "      <td>Marketing executive</td>\n",
       "      <td>2</td>\n",
       "      <td>2016-04-11</td>\n",
       "    </tr>\n",
       "    <tr>\n",
       "      <th>18</th>\n",
       "      <td>19</td>\n",
       "      <td>Casey Austin</td>\n",
       "      <td>Customer Service</td>\n",
       "      <td>8</td>\n",
       "      <td>2018-11-23</td>\n",
       "    </tr>\n",
       "    <tr>\n",
       "      <th>19</th>\n",
       "      <td>20</td>\n",
       "      <td>Todd Miranda</td>\n",
       "      <td>Customer Service</td>\n",
       "      <td>7</td>\n",
       "      <td>2022-04-08</td>\n",
       "    </tr>\n",
       "  </tbody>\n",
       "</table>\n",
       "</div>"
      ],
      "text/plain": [
       "    employeeid               name             position  branchid    hiredate\n",
       "0            1       Brenda Brady       Branch Manager         3  2014-07-26\n",
       "1            2      Amanda Rhodes              Cashier         7  2020-11-11\n",
       "2            3     Barbara Walton  Marketing executive         8  2019-10-10\n",
       "3            4       Cheryl Terry  Marketing executive         4  2019-08-26\n",
       "4            5     Sierra Holland  Marketing executive         8  2013-12-16\n",
       "5            6     Vincent Garcia       Branch Manager         7  2021-11-17\n",
       "6            7     Tyler Espinoza       Branch Manager         2  2022-07-28\n",
       "7            8     Sharon Johnson     Customer Service         5  2020-09-21\n",
       "8            9     Anthony Miller     Customer Service         3  2017-01-15\n",
       "9           10         Kevin Todd     Customer Service         3  2019-05-31\n",
       "10          11    Candice Johnson     Customer Service         4  2014-12-23\n",
       "11          12        Steven Gill              Cashier         8  2016-01-28\n",
       "12          13      Tammy Manning              Cashier         9  2019-08-26\n",
       "13          14  Cassandra Lindsey              Cashier        10  2022-08-22\n",
       "14          15        Sean Jacobs              Cashier         8  2016-04-23\n",
       "15          16      Daniel Thomas  Marketing executive        10  2019-04-01\n",
       "16          17    Samantha Harris  Marketing executive         4  2017-04-21\n",
       "17          18       Olivia Poole  Marketing executive         2  2016-04-11\n",
       "18          19       Casey Austin     Customer Service         8  2018-11-23\n",
       "19          20       Todd Miranda     Customer Service         7  2022-04-08"
      ]
     },
     "execution_count": 18,
     "metadata": {},
     "output_type": "execute_result"
    }
   ],
   "source": [
    "df"
   ]
  },
  {
   "cell_type": "markdown",
   "metadata": {},
   "source": [
    "### SQL DDL ( Create, Alter, Drop, Truncate)  using Python DB Connection "
   ]
  },
  {
   "cell_type": "code",
   "execution_count": 22,
   "metadata": {},
   "outputs": [
    {
     "name": "stdout",
     "output_type": "stream",
     "text": [
      "TABLE CREATED SUCCESSFULLY!\n"
     ]
    }
   ],
   "source": [
    "sql_query = ''' \n",
    "                CREATE TABLE practice_table(\n",
    "                id int,\n",
    "                name text)          \n",
    "\n",
    "\n",
    "            '''\n",
    "with engine.connect() as connection:\n",
    "    connection.execute(text(sql_query))\n",
    "    connection.commit()\n",
    "\n",
    "    print('TABLE CREATED SUCCESSFULLY!')"
   ]
  },
  {
   "cell_type": "markdown",
   "metadata": {},
   "source": [
    "### SQL DML (Insert, Update, Delete) Using Python DB Cursor "
   ]
  },
  {
   "cell_type": "code",
   "execution_count": 29,
   "metadata": {},
   "outputs": [
    {
     "name": "stdout",
     "output_type": "stream",
     "text": [
      "data successfully inserted\n"
     ]
    }
   ],
   "source": [
    "sql_query = '''\n",
    "                INSERT INTO Practice_table(id, name)\n",
    "                VALUES (:id, :name)    \n",
    "            '''\n",
    "data = {'id': 1, 'name': 'Marian'}\n",
    "\n",
    "# execute the insert\n",
    "with engine.connect() as connection:\n",
    "    connection.execute(text(sql_query), data)\n",
    "\n",
    "    # commit\n",
    "    connection.commit()\n",
    "\n",
    "print('data successfully inserted')\n",
    "    \n"
   ]
  },
  {
   "cell_type": "code",
   "execution_count": 31,
   "metadata": {},
   "outputs": [
    {
     "name": "stdout",
     "output_type": "stream",
     "text": [
      "data successfully inserted\n"
     ]
    }
   ],
   "source": [
    "## for multiple data\n",
    "sql_query = '''\n",
    "                INSERT INTO Practice_table(id, name)\n",
    "                VALUES (:id, :name)    \n",
    "            '''\n",
    "data = [{'id': 2, 'name': 'Maria'},\n",
    "{'id': 3, 'name': 'Lara'},\n",
    "        {'id': 4, 'name': 'Mary'},\n",
    "        {'id': 5, 'name': 'Nuria'},\n",
    "        {'id': 6, 'name': 'Jarian'},\n",
    "        {'id': 7, 'name': 'Musa'},\n",
    "        {'id': 8, 'name': 'Lucy'}\n",
    "]\n",
    "# execute the insert\n",
    "with engine.connect() as connection:\n",
    "    connection.execute(text(sql_query), data)\n",
    "\n",
    "    # commit\n",
    "    connection.commit()\n",
    "\n",
    "print('data successfully inserted')"
   ]
  },
  {
   "cell_type": "code",
   "execution_count": 32,
   "metadata": {},
   "outputs": [
    {
     "name": "stdout",
     "output_type": "stream",
     "text": [
      "TABLE CREATED SUCCESSFULLY!\n"
     ]
    }
   ],
   "source": [
    "# create a table named students(name, address, class, age) in the DB\n",
    "sql_query = ''' \n",
    "                CREATE TABLE students(\n",
    "                name text, \n",
    "                address varchar, \n",
    "                class varchar, \n",
    "                age int\n",
    "                \n",
    "                )          \n",
    "\n",
    "\n",
    "            '''\n",
    "with engine.connect() as connection:\n",
    "    connection.execute(text(sql_query))\n",
    "    connection.commit()\n",
    "\n",
    "    print('TABLE CREATED SUCCESSFULLY!')"
   ]
  },
  {
   "cell_type": "code",
   "execution_count": 33,
   "metadata": {},
   "outputs": [],
   "source": [
    "df = pd.read_csv('world_cup_matches.csv')"
   ]
  },
  {
   "cell_type": "code",
   "execution_count": 34,
   "metadata": {},
   "outputs": [
    {
     "data": {
      "text/html": [
       "<div>\n",
       "<style scoped>\n",
       "    .dataframe tbody tr th:only-of-type {\n",
       "        vertical-align: middle;\n",
       "    }\n",
       "\n",
       "    .dataframe tbody tr th {\n",
       "        vertical-align: top;\n",
       "    }\n",
       "\n",
       "    .dataframe thead th {\n",
       "        text-align: right;\n",
       "    }\n",
       "</style>\n",
       "<table border=\"1\" class=\"dataframe\">\n",
       "  <thead>\n",
       "    <tr style=\"text-align: right;\">\n",
       "      <th></th>\n",
       "      <th>ID</th>\n",
       "      <th>Year</th>\n",
       "      <th>Date</th>\n",
       "      <th>Stage</th>\n",
       "      <th>Home Team</th>\n",
       "      <th>Home Goals</th>\n",
       "      <th>Away Goals</th>\n",
       "      <th>Away Team</th>\n",
       "      <th>Win Conditions</th>\n",
       "      <th>Host Team</th>\n",
       "    </tr>\n",
       "  </thead>\n",
       "  <tbody>\n",
       "    <tr>\n",
       "      <th>0</th>\n",
       "      <td>1</td>\n",
       "      <td>1930</td>\n",
       "      <td>1930-07-13</td>\n",
       "      <td>Group stage</td>\n",
       "      <td>France</td>\n",
       "      <td>4</td>\n",
       "      <td>1</td>\n",
       "      <td>Mexico</td>\n",
       "      <td>NaN</td>\n",
       "      <td>False</td>\n",
       "    </tr>\n",
       "    <tr>\n",
       "      <th>1</th>\n",
       "      <td>2</td>\n",
       "      <td>1930</td>\n",
       "      <td>1930-07-13</td>\n",
       "      <td>Group stage</td>\n",
       "      <td>United States</td>\n",
       "      <td>3</td>\n",
       "      <td>0</td>\n",
       "      <td>Belgium</td>\n",
       "      <td>NaN</td>\n",
       "      <td>False</td>\n",
       "    </tr>\n",
       "    <tr>\n",
       "      <th>2</th>\n",
       "      <td>3</td>\n",
       "      <td>1930</td>\n",
       "      <td>1930-07-14</td>\n",
       "      <td>Group stage</td>\n",
       "      <td>Yugoslavia</td>\n",
       "      <td>2</td>\n",
       "      <td>1</td>\n",
       "      <td>Brazil</td>\n",
       "      <td>NaN</td>\n",
       "      <td>False</td>\n",
       "    </tr>\n",
       "    <tr>\n",
       "      <th>3</th>\n",
       "      <td>4</td>\n",
       "      <td>1930</td>\n",
       "      <td>1930-07-14</td>\n",
       "      <td>Group stage</td>\n",
       "      <td>Romania</td>\n",
       "      <td>3</td>\n",
       "      <td>1</td>\n",
       "      <td>Peru</td>\n",
       "      <td>NaN</td>\n",
       "      <td>False</td>\n",
       "    </tr>\n",
       "    <tr>\n",
       "      <th>4</th>\n",
       "      <td>5</td>\n",
       "      <td>1930</td>\n",
       "      <td>1930-07-15</td>\n",
       "      <td>Group stage</td>\n",
       "      <td>Argentina</td>\n",
       "      <td>1</td>\n",
       "      <td>0</td>\n",
       "      <td>France</td>\n",
       "      <td>NaN</td>\n",
       "      <td>False</td>\n",
       "    </tr>\n",
       "  </tbody>\n",
       "</table>\n",
       "</div>"
      ],
      "text/plain": [
       "   ID  Year        Date        Stage      Home Team  Home Goals  Away Goals  \\\n",
       "0   1  1930  1930-07-13  Group stage         France           4           1   \n",
       "1   2  1930  1930-07-13  Group stage  United States           3           0   \n",
       "2   3  1930  1930-07-14  Group stage     Yugoslavia           2           1   \n",
       "3   4  1930  1930-07-14  Group stage        Romania           3           1   \n",
       "4   5  1930  1930-07-15  Group stage      Argentina           1           0   \n",
       "\n",
       "  Away Team Win Conditions  Host Team  \n",
       "0    Mexico            NaN      False  \n",
       "1   Belgium            NaN      False  \n",
       "2    Brazil            NaN      False  \n",
       "3      Peru            NaN      False  \n",
       "4    France            NaN      False  "
      ]
     },
     "execution_count": 34,
     "metadata": {},
     "output_type": "execute_result"
    }
   ],
   "source": [
    "df.head()"
   ]
  },
  {
   "cell_type": "code",
   "execution_count": 38,
   "metadata": {},
   "outputs": [
    {
     "data": {
      "text/plain": [
       "900"
      ]
     },
     "execution_count": 38,
     "metadata": {},
     "output_type": "execute_result"
    }
   ],
   "source": [
    "\n",
    "df.to_sql('world_cup', engine, if_exists = 'replace', index = False)\n",
    "    \n"
   ]
  }
 ],
 "metadata": {
  "kernelspec": {
   "display_name": "base",
   "language": "python",
   "name": "python3"
  },
  "language_info": {
   "codemirror_mode": {
    "name": "ipython",
    "version": 3
   },
   "file_extension": ".py",
   "mimetype": "text/x-python",
   "name": "python",
   "nbconvert_exporter": "python",
   "pygments_lexer": "ipython3",
   "version": "3.12.4"
  }
 },
 "nbformat": 4,
 "nbformat_minor": 2
}
